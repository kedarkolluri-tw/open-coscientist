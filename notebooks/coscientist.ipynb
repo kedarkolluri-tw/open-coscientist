{
 "cells": [
  {
   "cell_type": "markdown",
   "id": "7db78a54-5e6c-4b1f-9504-12dd82de59a8",
   "metadata": {},
   "source": [
    "# Example Usage"
   ]
  },
  {
   "cell_type": "code",
   "execution_count": null,
   "id": "0774df25-40e8-41cc-89a2-3ca4bf7bc66b",
   "metadata": {},
   "outputs": [],
   "source": [
    "%load_ext autoreload\n",
    "%autoreload 2"
   ]
  },
  {
   "cell_type": "code",
   "execution_count": null,
   "id": "61f3bc36-20c4-4f35-b53b-42e02ff4b4e3",
   "metadata": {},
   "outputs": [],
   "source": [
    "from coscientist.framework import CoscientistConfig, CoscientistFramework\n",
    "from coscientist.global_state import CoscientistState, CoscientistStateManager"
   ]
  },
  {
   "cell_type": "code",
   "execution_count": null,
   "id": "f06d0b82-dc37-4958-9b15-4bd4027a3c68",
   "metadata": {},
   "outputs": [],
   "source": [
    "goal = \"How does the gut microbiome influence rheumatoid arthritis and can probiotics help to mitigate symptoms? If so, which ones are promising?\"\n",
    "initial_state = CoscientistState(goal=goal)"
   ]
  },
  {
   "cell_type": "code",
   "execution_count": null,
   "id": "eed3f916-bdc6-434a-b046-423a05ca360b",
   "metadata": {},
   "outputs": [],
   "source": [
    "config = CoscientistConfig()\n",
    "state_manager = CoscientistStateManager(initial_state)\n",
    "cosci = CoscientistFramework(config, state_manager)"
   ]
  },
  {
   "cell_type": "code",
   "execution_count": null,
   "id": "a759291e-a22b-4027-82a9-a82619a425ea",
   "metadata": {
    "scrolled": true
   },
   "outputs": [],
   "source": [
    "final_report, final_meta_review = await cosci.run()"
   ]
  },
  {
   "cell_type": "code",
   "execution_count": null,
   "id": "a3e08ffb-a4da-4c24-9be4-afb7a4913ba7",
   "metadata": {},
   "outputs": [],
   "source": []
  }
 ],
 "metadata": {
  "kernelspec": {
   "display_name": "Python 3 (ipykernel)",
   "language": "python",
   "name": "python3"
  },
  "language_info": {
   "codemirror_mode": {
    "name": "ipython",
    "version": 3
   },
   "file_extension": ".py",
   "mimetype": "text/x-python",
   "name": "python",
   "nbconvert_exporter": "python",
   "pygments_lexer": "ipython3",
   "version": "3.13.2"
  }
 },
 "nbformat": 4,
 "nbformat_minor": 5
}
